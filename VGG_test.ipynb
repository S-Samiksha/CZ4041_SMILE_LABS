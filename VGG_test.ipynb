{
 "cells": [
  {
   "cell_type": "code",
   "execution_count": 7,
   "metadata": {},
   "outputs": [
    {
     "name": "stdout",
     "output_type": "stream",
     "text": [
      "Collecting git+https://github.com/rcmalli/keras-vggface.git\n",
      "  Cloning https://github.com/rcmalli/keras-vggface.git to /private/var/folders/jg/9shvmq_x3vx53ksfc_fg462w0000gn/T/pip-req-build-mj3qby9h\n",
      "  Running command git clone --filter=blob:none --quiet https://github.com/rcmalli/keras-vggface.git /private/var/folders/jg/9shvmq_x3vx53ksfc_fg462w0000gn/T/pip-req-build-mj3qby9h\n",
      "  Resolved https://github.com/rcmalli/keras-vggface.git to commit bee35376e76e35d00aeec503f2f242611a97b38a\n",
      "  Preparing metadata (setup.py) ... \u001b[?25ldone\n",
      "\u001b[?25hRequirement already satisfied: numpy>=1.9.1 in /opt/anaconda3/envs/VGG_py/lib/python3.7/site-packages (from keras-vggface==0.6) (1.21.5)\n",
      "Requirement already satisfied: scipy>=0.14 in /opt/anaconda3/envs/VGG_py/lib/python3.7/site-packages (from keras-vggface==0.6) (1.7.3)\n",
      "Requirement already satisfied: h5py in /opt/anaconda3/envs/VGG_py/lib/python3.7/site-packages (from keras-vggface==0.6) (3.7.0)\n",
      "Requirement already satisfied: pillow in /opt/anaconda3/envs/VGG_py/lib/python3.7/site-packages (from keras-vggface==0.6) (9.5.0)\n",
      "Requirement already satisfied: keras in /opt/anaconda3/envs/VGG_py/lib/python3.7/site-packages (from keras-vggface==0.6) (2.11.0)\n",
      "Requirement already satisfied: six>=1.9.0 in /opt/anaconda3/envs/VGG_py/lib/python3.7/site-packages (from keras-vggface==0.6) (1.16.0)\n",
      "Requirement already satisfied: pyyaml in /opt/anaconda3/envs/VGG_py/lib/python3.7/site-packages (from keras-vggface==0.6) (6.0.1)\n",
      "Note: you may need to restart the kernel to use updated packages.\n"
     ]
    }
   ],
   "source": [
    "# pip install git+https://github.com/rcmalli/keras-vggface.git"
   ]
  },
  {
   "cell_type": "code",
   "execution_count": 1,
   "metadata": {},
   "outputs": [
    {
     "name": "stdout",
     "output_type": "stream",
     "text": [
      "Collecting package metadata (current_repodata.json): done\n",
      "Solving environment: - \n",
      "The environment is inconsistent, please check the package plan carefully\n",
      "The following packages are causing the inconsistency:\n",
      "\n",
      "  - defaults/osx-64::keras==2.2.4=0\n",
      "failed with initial frozen solve. Retrying with flexible solve.\n",
      "Solving environment: failed with repodata from current_repodata.json, will retry with next repodata source.\n",
      "Collecting package metadata (repodata.json): done\n",
      "Solving environment: | \n",
      "The environment is inconsistent, please check the package plan carefully\n",
      "The following packages are causing the inconsistency:\n",
      "\n",
      "  - defaults/osx-64::keras==2.2.4=0\n",
      "done\n",
      "\n",
      "\n",
      "==> WARNING: A newer version of conda exists. <==\n",
      "  current version: 4.10.3\n",
      "  latest version: 23.7.4\n",
      "\n",
      "Please update conda by running\n",
      "\n",
      "    $ conda update -n base -c defaults conda\n",
      "\n",
      "\n",
      "\n",
      "## Package Plan ##\n",
      "\n",
      "  environment location: /opt/anaconda3/envs/VGG_py\n",
      "\n",
      "  added / updated specs:\n",
      "    - keras=2.2.4\n",
      "    - tensorflow=1.14\n",
      "\n",
      "\n",
      "The following NEW packages will be INSTALLED:\n",
      "\n",
      "  keras-base         pkgs/main/osx-64::keras-base-2.2.4-py37_0\n",
      "\n",
      "\n",
      "Preparing transaction: done\n",
      "Verifying transaction: done\n",
      "Executing transaction: done\n",
      "\n",
      "Note: you may need to restart the kernel to use updated packages.\n"
     ]
    }
   ],
   "source": [
    "conda install Keras=2.2.4 tensorflow=1.14"
   ]
  },
  {
   "cell_type": "code",
   "execution_count": 2,
   "metadata": {},
   "outputs": [
    {
     "name": "stdout",
     "output_type": "stream",
     "text": [
      "Requirement already satisfied: keras_vggface in /opt/anaconda3/envs/VGG_py/lib/python3.7/site-packages (0.6)\n",
      "Requirement already satisfied: numpy>=1.9.1 in /opt/anaconda3/envs/VGG_py/lib/python3.7/site-packages (from keras_vggface) (1.21.5)\n",
      "Requirement already satisfied: scipy>=0.14 in /opt/anaconda3/envs/VGG_py/lib/python3.7/site-packages (from keras_vggface) (1.7.3)\n",
      "Requirement already satisfied: h5py in /opt/anaconda3/envs/VGG_py/lib/python3.7/site-packages (from keras_vggface) (3.7.0)\n",
      "Requirement already satisfied: pillow in /opt/anaconda3/envs/VGG_py/lib/python3.7/site-packages (from keras_vggface) (9.5.0)\n",
      "Requirement already satisfied: keras in /opt/anaconda3/envs/VGG_py/lib/python3.7/site-packages (from keras_vggface) (2.2.4)\n",
      "Requirement already satisfied: six>=1.9.0 in /opt/anaconda3/envs/VGG_py/lib/python3.7/site-packages (from keras_vggface) (1.16.0)\n",
      "Requirement already satisfied: pyyaml in /opt/anaconda3/envs/VGG_py/lib/python3.7/site-packages (from keras_vggface) (6.0.1)\n",
      "Requirement already satisfied: keras_applications>=1.0.6 in /opt/anaconda3/envs/VGG_py/lib/python3.7/site-packages (from keras->keras_vggface) (1.0.8)\n",
      "Requirement already satisfied: keras_preprocessing>=1.0.5 in /opt/anaconda3/envs/VGG_py/lib/python3.7/site-packages (from keras->keras_vggface) (1.1.2)\n",
      "Note: you may need to restart the kernel to use updated packages.\n"
     ]
    }
   ],
   "source": [
    "pip install keras_vggface"
   ]
  },
  {
   "cell_type": "code",
   "execution_count": 2,
   "metadata": {},
   "outputs": [
    {
     "name": "stdout",
     "output_type": "stream",
     "text": [
      "# packages in environment at /opt/anaconda3/envs/VGG_py:\n",
      "#\n",
      "# Name                    Version                   Build  Channel\n",
      "tensorflow                1.14.0          mkl_py37h085be34_0  \n",
      "tensorflow-base           1.14.0          mkl_py37h5a24fda_0  \n",
      "tensorflow-estimator      1.14.0                     py_0  \n",
      "\n",
      "Note: you may need to restart the kernel to use updated packages.\n"
     ]
    }
   ],
   "source": [
    "conda list tensorflow"
   ]
  },
  {
   "cell_type": "code",
   "execution_count": 3,
   "metadata": {},
   "outputs": [
    {
     "name": "stdout",
     "output_type": "stream",
     "text": [
      "# packages in environment at /opt/anaconda3/envs/VGG_py:\n",
      "#\n",
      "# Name                    Version                   Build  Channel\n",
      "keras                     2.2.4                         0  \n",
      "keras-applications        1.0.8                      py_1  \n",
      "keras-base                2.2.4                    py37_0  \n",
      "keras-preprocessing       1.1.2              pyhd3eb1b0_0  \n",
      "keras-vggface             0.6                      pypi_0    pypi\n",
      "\n",
      "Note: you may need to restart the kernel to use updated packages.\n"
     ]
    }
   ],
   "source": [
    "conda list Keras"
   ]
  },
  {
   "cell_type": "code",
   "execution_count": 4,
   "metadata": {},
   "outputs": [],
   "source": [
    "# pip install --upgrade keras_vggface"
   ]
  },
  {
   "cell_type": "code",
   "execution_count": 5,
   "metadata": {},
   "outputs": [],
   "source": [
    "from keras_vggface.vggface import VGGFace"
   ]
  },
  {
   "cell_type": "code",
   "execution_count": 6,
   "metadata": {},
   "outputs": [
    {
     "name": "stdout",
     "output_type": "stream",
     "text": [
      "0.6\n"
     ]
    }
   ],
   "source": [
    "import keras_vggface\n",
    "print(keras_vggface.__version__)"
   ]
  },
  {
   "cell_type": "code",
   "execution_count": 3,
   "metadata": {},
   "outputs": [
    {
     "name": "stdout",
     "output_type": "stream",
     "text": [
      "Collecting mtcnn\n",
      "  Using cached mtcnn-0.1.1-py3-none-any.whl (2.3 MB)\n",
      "Requirement already satisfied: keras>=2.0.0 in /opt/anaconda3/envs/VGG_py/lib/python3.7/site-packages (from mtcnn) (2.2.4)\n",
      "Collecting opencv-python>=4.1.0 (from mtcnn)\n",
      "  Obtaining dependency information for opencv-python>=4.1.0 from https://files.pythonhosted.org/packages/05/58/7ee92b21cb98689cbe28c69e3cf8ee51f261bfb6bc904ae578736d22d2e7/opencv_python-4.8.1.78-cp37-abi3-macosx_10_16_x86_64.whl.metadata\n",
      "  Using cached opencv_python-4.8.1.78-cp37-abi3-macosx_10_16_x86_64.whl.metadata (19 kB)\n",
      "Requirement already satisfied: numpy>=1.9.1 in /opt/anaconda3/envs/VGG_py/lib/python3.7/site-packages (from keras>=2.0.0->mtcnn) (1.21.5)\n",
      "Requirement already satisfied: scipy>=0.14 in /opt/anaconda3/envs/VGG_py/lib/python3.7/site-packages (from keras>=2.0.0->mtcnn) (1.7.3)\n",
      "Requirement already satisfied: six>=1.9.0 in /opt/anaconda3/envs/VGG_py/lib/python3.7/site-packages (from keras>=2.0.0->mtcnn) (1.16.0)\n",
      "Requirement already satisfied: pyyaml in /opt/anaconda3/envs/VGG_py/lib/python3.7/site-packages (from keras>=2.0.0->mtcnn) (6.0.1)\n",
      "Requirement already satisfied: h5py in /opt/anaconda3/envs/VGG_py/lib/python3.7/site-packages (from keras>=2.0.0->mtcnn) (3.7.0)\n",
      "Requirement already satisfied: keras_applications>=1.0.6 in /opt/anaconda3/envs/VGG_py/lib/python3.7/site-packages (from keras>=2.0.0->mtcnn) (1.0.8)\n",
      "Requirement already satisfied: keras_preprocessing>=1.0.5 in /opt/anaconda3/envs/VGG_py/lib/python3.7/site-packages (from keras>=2.0.0->mtcnn) (1.1.2)\n",
      "Using cached opencv_python-4.8.1.78-cp37-abi3-macosx_10_16_x86_64.whl (54.7 MB)\n",
      "Installing collected packages: opencv-python, mtcnn\n",
      "Successfully installed mtcnn-0.1.1 opencv-python-4.8.1.78\n",
      "Note: you may need to restart the kernel to use updated packages.\n"
     ]
    }
   ],
   "source": [
    "pip install mtcnn"
   ]
  },
  {
   "cell_type": "code",
   "execution_count": 7,
   "metadata": {},
   "outputs": [
    {
     "name": "stdout",
     "output_type": "stream",
     "text": [
      "0.1.0\n"
     ]
    }
   ],
   "source": [
    "import mtcnn\n",
    "print(mtcnn.__version__)"
   ]
  },
  {
   "cell_type": "code",
   "execution_count": null,
   "metadata": {},
   "outputs": [],
   "source": []
  },
  {
   "cell_type": "markdown",
   "metadata": {},
   "source": [
    "importing the dataset and cleaning function"
   ]
  },
  {
   "cell_type": "code",
   "execution_count": 8,
   "metadata": {},
   "outputs": [],
   "source": [
    "import pandas as pd\n",
    "import os\n",
    "\n",
    "def filter_valid_relationships(relationships_df, base_path):\n",
    "    valid_rows = []\n",
    "    \n",
    "    for index, row in relationships_df.iterrows():\n",
    "        family_id = row['p1'].split(\"/\")[0]\n",
    "        person1_id = row['p1'].split(\"/\")[1]\n",
    "        person2_id = row['p2'].split(\"/\")[1]\n",
    "\n",
    "        person1_path = os.path.join(base_path, \"train\", family_id, person1_id)\n",
    "        person2_path = os.path.join(base_path, \"train\", family_id, person2_id)\n",
    "        \n",
    "        if os.path.exists(person1_path) and os.path.exists(person2_path):\n",
    "            valid_rows.append(row)\n",
    "    \n",
    "    return pd.DataFrame(valid_rows)\n",
    "\n",
    "base_path = \"/Users/fanyupei/Codes/CE4041_Kaggle/recognizing-faces-in-the-wild/\"\n",
    "relationships = pd.read_csv(base_path + \"train_relationships.csv\")\n",
    "relationships = filter_valid_relationships(relationships, \"/Users/fanyupei/Codes/CE4041_Kaggle/recognizing-faces-in-the-wild\")"
   ]
  },
  {
   "cell_type": "code",
   "execution_count": 11,
   "metadata": {},
   "outputs": [
    {
     "name": "stdout",
     "output_type": "stream",
     "text": [
      "Error reading /Users/fanyupei/Codes/CE4041_Kaggle/recognizing-faces-in-the-wild/train/F0039/MID3/.DS_Store. Error: cannot identify image file <_io.BytesIO object at 0x7f88b0838170>\n",
      "Error reading /Users/fanyupei/Codes/CE4041_Kaggle/recognizing-faces-in-the-wild/train/F0039/MID3/.DS_Store. Error: cannot identify image file <_io.BytesIO object at 0x7f88e171eb90>\n",
      "Error reading /Users/fanyupei/Codes/CE4041_Kaggle/recognizing-faces-in-the-wild/train/F0039/MID3/.DS_Store. Error: cannot identify image file <_io.BytesIO object at 0x7f88b0838170>\n",
      "Error reading /Users/fanyupei/Codes/CE4041_Kaggle/recognizing-faces-in-the-wild/train/F0039/MID3/.DS_Store. Error: cannot identify image file <_io.BytesIO object at 0x7f88b0838170>\n"
     ]
    },
    {
     "ename": "",
     "evalue": "",
     "output_type": "error",
     "traceback": [
      "\u001b[1;31mThe Kernel crashed while executing code in the the current cell or a previous cell. Please review the code in the cell(s) to identify a possible cause of the failure. Click <a href='https://aka.ms/vscodeJupyterKernelCrash'>here</a> for more info. View Jupyter <a href='command:jupyter.viewOutput'>log</a> for further details."
     ]
    }
   ],
   "source": [
    "import numpy as np\n",
    "from keras.preprocessing import image\n",
    "from keras_vggface import utils\n",
    "    \n",
    "def read_img(path):\n",
    "    try:\n",
    "        img = image.load_img(path, target_size=(224, 224))\n",
    "        img = image.img_to_array(img)\n",
    "        img = np.expand_dims(img, axis=0)\n",
    "        img = utils.preprocess_input(img, version=1)  # or version=2 based on the model\n",
    "        return img\n",
    "    except Exception as e:\n",
    "        print(f\"Error reading {path}. Error: {e}\")\n",
    "        return None\n",
    "\n",
    "def generate_data(relationships, base_path):\n",
    "    X = []\n",
    "    Y = []\n",
    "    for i in range(len(relationships)):\n",
    "        family_id = relationships.iloc[i, 0].split(\"/\")[0]\n",
    "        person1_id = relationships.iloc[i, 0].split(\"/\")[1]\n",
    "        person2_id = relationships.iloc[i, 1].split(\"/\")[1]\n",
    "        \n",
    "        person1_images = os.listdir(os.path.join(base_path, \"train\", family_id, person1_id))\n",
    "        person2_images = os.listdir(os.path.join(base_path, \"train\", family_id, person2_id))\n",
    "        \n",
    "        if not person1_images or not person2_images:\n",
    "            # Skip if no images found for either person\n",
    "            continue\n",
    "        \n",
    "        for img1 in person1_images:\n",
    "            for img2 in person2_images:\n",
    "                img1_path = os.path.join(base_path, \"train\", family_id, person1_id, img1)\n",
    "                img2_path = os.path.join(base_path, \"train\", family_id, person2_id, img2)\n",
    "                \n",
    "                if os.path.exists(img1_path) and os.path.exists(img2_path):\n",
    "                    img1_processed = read_img(img1_path)\n",
    "                    img2_processed = read_img(img2_path)\n",
    "                    \n",
    "                    if img1_processed is not None and img2_processed is not None:\n",
    "                        X.append([img1_processed, img2_processed])\n",
    "                        Y.append(1)  # As per your provided data, all pairs in the CSV are related.\n",
    "    \n",
    "    X = np.array(X)\n",
    "    Y = np.array(Y)\n",
    "    return X, Y\n",
    "\n",
    "X, Y = generate_data(relationships, base_path)"
   ]
  },
  {
   "cell_type": "markdown",
   "metadata": {},
   "source": [
    "train the vgg face model"
   ]
  },
  {
   "cell_type": "code",
   "execution_count": null,
   "metadata": {},
   "outputs": [],
   "source": [
    "from keras_vggface.vggface import VGGFace\n",
    "from keras.layers import Flatten, Dense, Input, concatenate\n",
    "from keras.models import Model\n",
    "\n",
    "# Base model with VGG16 architecture\n",
    "base_model = VGGFace(include_top=False)\n",
    "\n",
    "for layer in base_model.layers[:-3]:\n",
    "    layer.trainable = False\n",
    "\n",
    "img1_input = Input(shape=(224, 224, 3))\n",
    "img2_input = Input(shape=(224, 224, 3))\n",
    "\n",
    "img1_features = base_model(img1_input)\n",
    "img2_features = base_model(img2_input)\n",
    "\n",
    "merged_features = concatenate([img1_features, img2_features], axis=-1)\n",
    "merged_features = Flatten()(merged_features)\n",
    "merged_features = Dense(512, activation='relu')(merged_features)\n",
    "output = Dense(1, activation='sigmoid')(merged_features)\n",
    "\n",
    "model = Model([img1_input, img2_input], output)\n",
    "model.compile(optimizer='adam', loss='binary_crossentropy', metrics=['accuracy'])\n",
    "\n",
    "model.fit([X[:, 0], X[:, 1]], Y, epochs=10, batch_size=32, validation_split=0.2)"
   ]
  },
  {
   "cell_type": "markdown",
   "metadata": {},
   "source": [
    "test the model"
   ]
  },
  {
   "cell_type": "code",
   "execution_count": null,
   "metadata": {},
   "outputs": [],
   "source": [
    "def generate_test_data(base_path, submission_df):\n",
    "    X = []\n",
    "    pairs = []\n",
    "    for _, row in submission_df.iterrows():\n",
    "        img1_path = os.path.join(base_path, \"test\", row['img_pair'].split('-')[0])\n",
    "        img2_path = os.path.join(base_path, \"test\", row['img_pair'].split('-')[1])\n",
    "        \n",
    "        img1_processed = read_img(img1_path)\n",
    "        img2_processed = read_img(img2_path)\n",
    "\n",
    "        if img1_processed is not None and img2_processed is not None:\n",
    "            X.append([img1_processed, img2_processed])\n",
    "            pairs.append(row['img_pair'])\n",
    "\n",
    "    X = np.array(X)\n",
    "    return X, pairs\n",
    "\n",
    "submission_df = pd.read_csv(base_path + \"sample_submission.csv\")\n",
    "X_test, test_pairs = generate_test_data(base_path, submission_df)"
   ]
  },
  {
   "cell_type": "markdown",
   "metadata": {},
   "source": [
    "prediction"
   ]
  },
  {
   "cell_type": "code",
   "execution_count": null,
   "metadata": {},
   "outputs": [],
   "source": [
    "# Predicting the test set\n",
    "predictions = model.predict([X_test[:, 0], X_test[:, 1]])\n",
    "\n",
    "# Preparing submission dataframe\n",
    "submission_df = pd.DataFrame({'img_pair': test_pairs, 'is_related': predictions.ravel()})\n",
    "\n",
    "# Creating a CSV for submission\n",
    "submission_df.to_csv(base_path + \"my_submission.csv\", index=False)"
   ]
  }
 ],
 "metadata": {
  "kernelspec": {
   "display_name": "Python 3 (ipykernel)",
   "language": "python",
   "name": "python3"
  },
  "language_info": {
   "codemirror_mode": {
    "name": "ipython",
    "version": 3
   },
   "file_extension": ".py",
   "mimetype": "text/x-python",
   "name": "python",
   "nbconvert_exporter": "python",
   "pygments_lexer": "ipython3",
   "version": "3.7.12"
  }
 },
 "nbformat": 4,
 "nbformat_minor": 2
}
