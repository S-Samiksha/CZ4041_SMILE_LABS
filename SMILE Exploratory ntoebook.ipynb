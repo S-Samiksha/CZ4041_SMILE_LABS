{
 "cells": [
  {
   "cell_type": "code",
   "execution_count": 1,
   "id": "2f984574",
   "metadata": {},
   "outputs": [],
   "source": [
    "'''\n",
    "Adapated from: https://github.com/CVxTz/kinship_prediction/blob/master/code/vgg_face.py \n",
    "to parse the images and data\n",
    "This is NOT used to make the model! \n",
    "Additionally, this is run on a Windows OS. Some code may not be need if it is on a UNIX or LINUX OS. \n",
    "'''\n",
    "import pandas as pd\n",
    "from glob import glob #for finding files recursively \n",
    "from collections import defaultdict"
   ]
  },
  {
   "cell_type": "code",
   "execution_count": 2,
   "id": "a4c74dda",
   "metadata": {},
   "outputs": [
    {
     "data": {
      "text/plain": [
       "'\\nIdea of hypertuning:\\nusing different validation sets for each iteration \\nmaybe instead of using only only family as the validation, we can use a group\\nor change the validation set for each iteration of training the model \\n'"
      ]
     },
     "execution_count": 2,
     "metadata": {},
     "output_type": "execute_result"
    }
   ],
   "source": [
    "relationshipsCSV = \"./SMILE/train_relationships.csv\"\n",
    "train_images_folder = \"./SMILE/train/\"\n",
    "#what is the difference between train and train-face?\n",
    "val_set = \"F09\" #can change this, this is randomly generated \n",
    "'''\n",
    "Idea of hypertuning:\n",
    "using different validation sets for each iteration \n",
    "maybe instead of using only only family as the validation, we can use a group\n",
    "or change the validation set for each iteration of training the model \n",
    "'''"
   ]
  },
  {
   "cell_type": "code",
   "execution_count": 3,
   "id": "72f92c91",
   "metadata": {
    "scrolled": true
   },
   "outputs": [],
   "source": [
    "availble_images = glob(train_images_folder + \"*/*/*.jpg\")\n",
    "'''\n",
    "Only for windows pc:\n",
    "'''\n",
    "for a in range(0, len(availble_images)):\n",
    "    availble_images[a] = availble_images[a].replace(\"\\\\\", \"/\")   \n",
    "    \n",
    "all_ppl = [x.split(\"/\")[-3] + \"/\" + x.split(\"/\")[-2] for x in availble_images] #all the people"
   ]
  },
  {
   "cell_type": "code",
   "execution_count": 4,
   "id": "7ebee7eb",
   "metadata": {},
   "outputs": [],
   "source": [
    "#creating the training set\n",
    "train_images = [x for x in availble_images if val_set not in x]\n",
    "train_person_to_images_map = defaultdict(list)\n",
    "for x in train_images:\n",
    "    train_person_to_images_map[x.split(\"/\")[-3] + \"/\" + x.split(\"/\")[-2]].append(x)\n",
    "\n",
    "#creating the validation set\n",
    "val_images = [x for x in availble_images if val_set in x]\n",
    "val_person_to_images_map = defaultdict(list)\n",
    "for x in val_images:\n",
    "    val_person_to_images_map[x.split(\"/\")[-3] + \"/\" + x.split(\"/\")[-2]].append(x)"
   ]
  },
  {
   "cell_type": "code",
   "execution_count": null,
   "id": "064e9e07",
   "metadata": {},
   "outputs": [],
   "source": [
    "relationships = pd.read_csv(relationshipsCSV)\n",
    "# Create a list of tuples\n",
    "relationship_pairs = [(row['p1'], row['p2']) for index, row in relationships.iterrows()]\n",
    "relationship_pairs = [x for x in relationship_pairs if x[0] in all_ppl and x[1] in all_ppl] #data cleaning"
   ]
  },
  {
   "cell_type": "code",
   "execution_count": null,
   "id": "e3bcbf66",
   "metadata": {},
   "outputs": [],
   "source": [
    "train = [x for x in relationship_pairs if val_set not in x[0]]\n",
    "val = [x for x in relationship_pairs if val_set in x[0]]\n",
    "#split the train and validation"
   ]
  },
  {
   "cell_type": "code",
   "execution_count": null,
   "id": "9f98b81b",
   "metadata": {},
   "outputs": [],
   "source": []
  }
 ],
 "metadata": {
  "kernelspec": {
   "display_name": "Python 3 (ipykernel)",
   "language": "python",
   "name": "python3"
  },
  "language_info": {
   "codemirror_mode": {
    "name": "ipython",
    "version": 3
   },
   "file_extension": ".py",
   "mimetype": "text/x-python",
   "name": "python",
   "nbconvert_exporter": "python",
   "pygments_lexer": "ipython3",
   "version": "3.8.5"
  }
 },
 "nbformat": 4,
 "nbformat_minor": 5
}
